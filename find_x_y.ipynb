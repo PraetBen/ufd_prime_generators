{
 "cells": [
  {
   "cell_type": "code",
   "execution_count": 1,
   "outputs": [],
   "source": [
    "from common import *\n",
    "import math\n",
    "from complex_trial_division import find_complex_composites"
   ],
   "metadata": {
    "collapsed": false,
    "pycharm": {
     "name": "#%%\n",
     "is_executing": false
    }
   }
  },
  {
   "cell_type": "code",
   "execution_count": 9,
   "metadata": {
    "collapsed": true,
    "pycharm": {
     "is_executing": false,
     "name": "#%%\n"
    }
   },
   "outputs": [],
   "source": [
    "def find_c_d(to_find):\n",
    "\n",
    "    c_limit = math.ceil(math.sqrt(to_find))\n",
    "    d_limit = math.ceil(math.sqrt(4*to_find/163))\n",
    "    c = 0\n",
    "    d = 1\n",
    "\n",
    "    found_pairs = []\n",
    "    absVal = get_absolute_value(c,d)\n",
    "    absValNeg = get_absolute_value(-c,d)\n",
    "    while(d <= d_limit):\n",
    "        while(c <= c_limit):\n",
    "            if(to_find == absVal):\n",
    "                print (str(absVal) + ' equals '+ str(to_find))\n",
    "                print('c = ' + str(c) + ' d = ' + str(d))\n",
    "                found_pairs.append([c,d])\n",
    "            if(to_find == absValNeg):\n",
    "                print (str(absValNeg) + ' equals '+ str(to_find))\n",
    "                print('c = -' + str(c) + ' d = ' + str(d))\n",
    "                found_pairs.append([-c,d])\n",
    "            c += 1\n",
    "            absVal = get_absolute_value(c,d)\n",
    "            absValNeg = get_absolute_value(-c,d)\n",
    "            #print('c = ' + str(c) + ' d = ' + str(d))\n",
    "        d += 1\n",
    "        c = 0\n",
    "        absVal = get_absolute_value(c,d)\n",
    "        absValNeg = get_absolute_value(-c,d)\n",
    "    return found_pairs"
   ]
  },
  {
   "cell_type": "code",
   "execution_count": 3,
   "outputs": [
    {
     "data": {
      "text/plain": "True"
     },
     "metadata": {},
     "output_type": "execute_result",
     "execution_count": 3
    }
   ],
   "source": [
    "is_prime(get_absolute_value(121,131))"
   ],
   "metadata": {
    "collapsed": false,
    "pycharm": {
     "name": "#%%",
     "is_executing": false
    }
   }
  },
  {
   "cell_type": "code",
   "execution_count": 10,
   "outputs": [
    {
     "name": "stdout",
     "text": [
      "17442547 equals 17442547\nc = 4061 d = 222\n",
      "17442547 equals 17442547\nc = 3453 d = 1189\n",
      "17442547 equals 17442547\nc = 1189 d = 3453\n",
      "17442547 equals 17442547\nc = 222 d = 4061\n",
      "17442547 equals 17442547\nc = -222 d = 4283\n17442547 equals 17442547\nc = -4061 d = 4283\n",
      "17442547 equals 17442547\nc = -1189 d = 4642\n17442547 equals 17442547\nc = -3453 d = 4642\n"
     ],
     "output_type": "stream"
    },
    {
     "data": {
      "text/plain": "[[4061, 222],\n [3453, 1189],\n [1189, 3453],\n [222, 4061],\n [-222, 4283],\n [-4061, 4283],\n [-1189, 4642],\n [-3453, 4642]]"
     },
     "metadata": {},
     "output_type": "execute_result",
     "execution_count": 10
    }
   ],
   "source": [
    "find_c_d(get_absolute_value(4061,222))"
   ],
   "metadata": {
    "collapsed": false,
    "pycharm": {
     "name": "#%%\n",
     "is_executing": false
    }
   }
  },
  {
   "cell_type": "code",
   "execution_count": 8,
   "outputs": [
    {
     "data": {
      "text/plain": "(-629, 467, 421, 222)"
     },
     "metadata": {},
     "output_type": "execute_result",
     "execution_count": 8
    }
   ],
   "source": [
    "x1, y1, x2, y2 = 11,13,23,7\n",
    "C=41\n",
    "\n",
    "get_X_Y_values(x1,y1,x2,y2)"
   ],
   "metadata": {
    "collapsed": false,
    "pycharm": {
     "name": "#%%\n",
     "is_executing": false
    }
   }
  },
  {
   "cell_type": "code",
   "execution_count": 6,
   "outputs": [
    {
     "data": {
      "text/plain": "10690347"
     },
     "metadata": {},
     "output_type": "execute_result",
     "execution_count": 6
    }
   ],
   "source": [
    "get_absolute_value(3011,467)"
   ],
   "metadata": {
    "collapsed": false,
    "pycharm": {
     "name": "#%%\n",
     "is_executing": false
    }
   }
  },
  {
   "cell_type": "code",
   "execution_count": 7,
   "outputs": [
    {
     "data": {
      "text/plain": "10690347"
     },
     "metadata": {},
     "output_type": "execute_result",
     "execution_count": 7
    }
   ],
   "source": [
    "3011**2+3011*467+467**2\n",
    "\n"
   ],
   "metadata": {
    "collapsed": false,
    "pycharm": {
     "name": "#%%\n",
     "is_executing": false
    }
   }
  }
 ],
 "metadata": {
  "kernelspec": {
   "display_name": "Python 3",
   "language": "python",
   "name": "python3"
  },
  "language_info": {
   "codemirror_mode": {
    "name": "ipython",
    "version": 2
   },
   "file_extension": ".py",
   "mimetype": "text/x-python",
   "name": "python",
   "nbconvert_exporter": "python",
   "pygments_lexer": "ipython2",
   "version": "2.7.6"
  },
  "pycharm": {
   "stem_cell": {
    "cell_type": "raw",
    "source": [],
    "metadata": {
     "collapsed": false
    }
   }
  }
 },
 "nbformat": 4,
 "nbformat_minor": 0
}