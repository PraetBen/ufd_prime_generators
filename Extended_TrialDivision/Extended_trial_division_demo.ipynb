{
 "cells": [
  {
   "cell_type": "code",
   "execution_count": null,
   "metadata": {
    "collapsed": true
   },
   "outputs": [],
   "source": [
    "C = 41\n",
    "\n",
    "def get_absolute_value(c, d):\n",
    "    \"\"\" Returns the value of the function c²+cd+d²*C \"\"\"\n",
    "    return c ** 2 + c * d + C * d ** 2\n",
    "\n",
    "\n",
    "def is_prime_trial_division_in_ufd(x, y):\n",
    "    \"\"\" Checks if (x, y) is prime by trial division in the UFD (defined in get_absolute_value) \"\"\"\n",
    "    x_y_value = get_absolute_value(x, y)\n",
    "    x1, y1 = 2, 0  # start point is (2,0) as (0,0) equals 0 and (1, 0) equals 1\n",
    "    x1_y1_value = get_absolute_value(x1, y1)\n",
    "    x1_neg_y1_value = get_absolute_value(-x1, y1)\n",
    "    while x1_y1_value <= int(x_y_value ** 0.5) or x1_neg_y1_value <= int(x_y_value ** 0.5):  # y-level loop\n",
    "        while x1_y1_value <= int(x_y_value ** 0.5) or x1_neg_y1_value <= int(x_y_value ** 0.5):  # x-level loop\n",
    "            if x_y_value % x1_y1_value == 0 or x_y_value % x1_neg_y1_value == 0:\n",
    "                return False\n",
    "            x1 += 1  # check next x1 value\n",
    "            x1_y1_value = get_absolute_value(x1, y1)\n",
    "            x1_neg_y1_value = get_absolute_value(-x1, y1)\n",
    "\n",
    "        y1 += 1  # move to next y1 value to check\n",
    "        x1 = 0  # reset x1 back to 0\n",
    "        x1_y1_value = get_absolute_value(x1, y1)\n",
    "        x1_neg_y1_value = get_absolute_value(-x1, y1)\n",
    "    return True\n",
    "\n",
    "\n",
    "def is_prime(N):\n",
    "    \"\"\" Checks if a number is prime by simple trial division \"\"\"\n",
    "    x = 2  # initialize variable\n",
    "    while x <= int(N ** 0.5):  # while x is smaller than the square root of N\n",
    "        if N % x == 0:  # if N is divisible by x\n",
    "            return False  # then N is not a prime\n",
    "        x += 1  # add one more to x to test the next number\n",
    "    return True  # when no x can be found that divides N, then N must be a prime number"
   ]
  },
  {
   "cell_type": "code",
   "execution_count": null,
   "outputs": [],
   "source": [
    "\n",
    "x, y = 11, 12\n",
    "\n",
    "print(f\"evaluating (x, y) : ({x}, {y})\")\n",
    "print(f\"with corresponding value N: {get_absolute_value(x,y)}\")\n",
    "print(is_prime_trial_division_in_ufd(x,y))\n",
    "print(is_prime(get_absolute_value(x,y)))"
   ],
   "metadata": {
    "collapsed": false,
    "pycharm": {
     "name": "#%%\n"
    }
   }
  }
 ],
 "metadata": {
  "kernelspec": {
   "display_name": "Python 3",
   "language": "python",
   "name": "python3"
  },
  "language_info": {
   "codemirror_mode": {
    "name": "ipython",
    "version": 2
   },
   "file_extension": ".py",
   "mimetype": "text/x-python",
   "name": "python",
   "nbconvert_exporter": "python",
   "pygments_lexer": "ipython2",
   "version": "2.7.6"
  },
  "pycharm": {
   "stem_cell": {
    "cell_type": "raw",
    "source": [],
    "metadata": {
     "collapsed": false
    }
   }
  }
 },
 "nbformat": 4,
 "nbformat_minor": 0
}