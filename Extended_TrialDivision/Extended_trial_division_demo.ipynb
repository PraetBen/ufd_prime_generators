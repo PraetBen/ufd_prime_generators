{
 "cells": [
  {
   "cell_type": "code",
   "execution_count": 6,
   "metadata": {
    "collapsed": true,
    "pycharm": {
     "is_executing": false
    }
   },
   "outputs": [],
   "source": [
    "C = 41\n",
    "\n",
    "def f(x, y):\n",
    "    \"\"\" Returns the value of the function x²+xy+y²*C \"\"\"\n",
    "    return x ** 2 + x * y + C * y ** 2\n",
    "\n",
    "\n",
    "def is_prime_extended_trial_division(x, y):\n",
    "    \"\"\" Checks if (x, y) is prime by trial division in the UFD \"\"\"\n",
    "    N = f(x, y)\n",
    "    cutoff = round(1.2 * N ** 0.5)\n",
    "    x1, y1 = 2, 0  # start point is (2,0) as (0,0) equals 0 and (1, 0) equals 1\n",
    "    x1_y1_value = f(x1, y1)\n",
    "    x1_neg_y1_value = f(-x1, y1)\n",
    "    while x1_y1_value <= cutoff or x1_neg_y1_value <= cutoff:  # y-level loop\n",
    "        while x1_y1_value <= cutoff or x1_neg_y1_value <= cutoff:  # x-level loop\n",
    "            if N % x1_y1_value == 0 or N % x1_neg_y1_value == 0:\n",
    "                return False\n",
    "            x1 += 1  # check next x1 value\n",
    "            x1_y1_value = f(x1, y1)\n",
    "            x1_neg_y1_value = f(-x1, y1)\n",
    "\n",
    "        y1 += 1  # move to next y1 value to check\n",
    "        x1 = 0  # reset x1 back to 0\n",
    "        x1_y1_value = f(x1, y1)\n",
    "        x1_neg_y1_value = f(-x1, y1)\n",
    "    return True\n",
    "\n",
    "\n",
    "def is_prime(N):\n",
    "    \"\"\" Checks if a number is prime by simple trial division \"\"\"\n",
    "    x = 2  # initialize variable\n",
    "    while x <= int(N ** 0.5):  # while x is smaller than the square root of N\n",
    "        if N % x == 0:  # if N is divisible by x\n",
    "            return False  # then N is not a prime\n",
    "        x += 1  # add one more to x to test the next number\n",
    "    return True  # when no x can be found that divides N, then N must be a prime number"
   ]
  },
  {
   "cell_type": "code",
   "execution_count": null,
   "outputs": [],
   "source": [
    "def check_algorithm(final_x, final_y):\n",
    "    # check to see if the algorithm is working\n",
    "    for c in range(0, final_x):\n",
    "        for d in range(1, final_y):\n",
    "            if is_prime(f(c, d)) != f(c, d):\n",
    "                print(c, d)\n",
    "        print(\"evaluating: \" + str(c))\n",
    "\n",
    "    return True\n"
   ],
   "metadata": {
    "collapsed": false,
    "pycharm": {
     "name": "#%%\n"
    }
   }
  },
  {
   "cell_type": "code",
   "execution_count": 7,
   "outputs": [
    {
     "name": "stdout",
     "text": [
      "evaluating (x, y) : (11, 12)\nwith corresponding value N: 6157\nFalse\nFalse\n"
     ],
     "output_type": "stream"
    }
   ],
   "source": [
    "\n",
    "x, y = 11, 12\n",
    "\n",
    "print(f\"evaluating (x, y) : ({x}, {y})\")\n",
    "print(f\"with corresponding value N: {f(x,y)}\")\n",
    "print(is_prime_extended_trial_division(x,y))\n",
    "print(is_prime(f(x,y)))"
   ],
   "metadata": {
    "collapsed": false,
    "pycharm": {
     "name": "#%%\n",
     "is_executing": false
    }
   }
  }
 ],
 "metadata": {
  "kernelspec": {
   "display_name": "Python 3",
   "language": "python",
   "name": "python3"
  },
  "language_info": {
   "codemirror_mode": {
    "name": "ipython",
    "version": 2
   },
   "file_extension": ".py",
   "mimetype": "text/x-python",
   "name": "python",
   "nbconvert_exporter": "python",
   "pygments_lexer": "ipython2",
   "version": "2.7.6"
  },
  "pycharm": {
   "stem_cell": {
    "cell_type": "raw",
    "source": [],
    "metadata": {
     "collapsed": false
    }
   }
  }
 },
 "nbformat": 4,
 "nbformat_minor": 0
}