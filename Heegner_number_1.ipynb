{
 "cells": [
  {
   "cell_type": "code",
   "execution_count": 50,
   "metadata": {
    "collapsed": true,
    "pycharm": {
     "is_executing": false
    }
   },
   "outputs": [],
   "source": [
    "n = 1\n",
    "\n",
    "def get_absolute_value(x, y):\n",
    "    return x**2+n*y**2\n",
    "\n",
    "\n",
    "def find_all_x_y(value):\n",
    "    results = []\n",
    "    for x in range(-(int(value)+1), int(value)+1):\n",
    "        for y in range(-(int(value)+1), int(value)+1):\n",
    "            if get_absolute_value(x, y) == value:\n",
    "                results.append([x,y])\n",
    "    return results\n",
    "                "
   ]
  },
  {
   "cell_type": "code",
   "execution_count": 75,
   "outputs": [
    {
     "data": {
      "text/plain": "[[-25, -8],\n [-25, 8],\n [-20, -17],\n [-20, 17],\n [-17, -20],\n [-17, 20],\n [-8, -25],\n [-8, 25],\n [8, -25],\n [8, 25],\n [17, -20],\n [17, 20],\n [20, -17],\n [20, 17],\n [25, -8],\n [25, 8]]"
     },
     "metadata": {},
     "output_type": "execute_result",
     "execution_count": 75
    }
   ],
   "source": [
    "find_all_x_y(get_absolute_value(20, 17))"
   ],
   "metadata": {
    "collapsed": false,
    "pycharm": {
     "name": "#%%\n",
     "is_executing": false
    }
   }
  },
  {
   "cell_type": "code",
   "execution_count": 76,
   "outputs": [
    {
     "data": {
      "text/plain": "1"
     },
     "metadata": {},
     "output_type": "execute_result",
     "execution_count": 76
    }
   ],
   "source": [
    "689%4\n"
   ],
   "metadata": {
    "collapsed": false,
    "pycharm": {
     "name": "#%%\n",
     "is_executing": false
    }
   }
  }
 ],
 "metadata": {
  "kernelspec": {
   "display_name": "Python 3",
   "language": "python",
   "name": "python3"
  },
  "language_info": {
   "codemirror_mode": {
    "name": "ipython",
    "version": 2
   },
   "file_extension": ".py",
   "mimetype": "text/x-python",
   "name": "python",
   "nbconvert_exporter": "python",
   "pygments_lexer": "ipython2",
   "version": "2.7.6"
  },
  "pycharm": {
   "stem_cell": {
    "cell_type": "raw",
    "source": [],
    "metadata": {
     "collapsed": false
    }
   }
  }
 },
 "nbformat": 4,
 "nbformat_minor": 0
}