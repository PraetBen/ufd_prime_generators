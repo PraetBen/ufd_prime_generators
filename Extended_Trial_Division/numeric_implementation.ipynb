{
 "cells": [
  {
   "cell_type": "code",
   "execution_count": 1,
   "metadata": {
    "collapsed": true,
    "pycharm": {
     "is_executing": false,
     "name": "#%%\n"
    }
   },
   "outputs": [
    {
     "name": "stdout",
     "text": [
      "Evaluating h=1\n",
      "done\nEvaluating h=2\n",
      "done\nEvaluating h=3\n",
      "done\nEvaluating h=7\n",
      "done\nEvaluating h=11\n",
      "done\nEvaluating h=19\n",
      "done\nEvaluating h=43\n",
      "done\nEvaluating h=67\n",
      "done\nEvaluating h=163\n",
      "done\n"
     ],
     "output_type": "stream"
    }
   ],
   "source": [
    "def f(x, y):\n",
    "    \"\"\" General method that returns the value of the function x² + xy + Cy² or x² + C y², depending on the value of h \"\"\"\n",
    "    if h % 4 == 3:\n",
    "        C = int((h+1)/4)\n",
    "        return x ** 2 + x * y + C * y ** 2\n",
    "    else:\n",
    "        # this covers the case when h equals 1 or 2\n",
    "        C = h\n",
    "        return x ** 2 + C * y ** 2\n",
    "    \n",
    "    \n",
    "\n",
    "def is_prime_trial_division_in_ufd(x, y):\n",
    "    \"\"\" Checks if (x, y) is prime by trial division in the UFD (defined in get_absolute_value) \"\"\"\n",
    "    N = f(x, y)\n",
    "    cutoff = round(1.2 * N ** 0.5)\n",
    "    x1, y1 = 0, 0  \n",
    "        \n",
    "    x1_y1_value = f(x1, y1)\n",
    "    x1_neg_y1_value = f(-x1, y1)\n",
    "    \n",
    "    while x1_y1_value <= cutoff or x1_neg_y1_value <= cutoff:  # y-level loop\n",
    "        while x1_y1_value <= cutoff or x1_neg_y1_value <= cutoff:  # x-level loop     \n",
    "            if abs(x1_y1_value) > 1 and N % x1_y1_value == 0 and x1_y1_value != N:      \n",
    "                return False                \n",
    "            if abs(x1_neg_y1_value) > 1 and N % x1_neg_y1_value == 0 and x1_neg_y1_value != N:     \n",
    "                return False\n",
    "            x1 += 1  # check next x1 value    \n",
    "            x1_y1_value = f(x1, y1)\n",
    "            x1_neg_y1_value = f(-x1, y1)\n",
    "\n",
    "        y1 += 1  # move to next y1 value to check\n",
    "        x1 = 0  # reset x1 back to 0\n",
    "        x1_y1_value = f(x1, y1)\n",
    "        x1_neg_y1_value = f(-x1, y1)\n",
    "    return True\n",
    "\n",
    "\n",
    "def is_prime(N):\n",
    "    \"\"\" Checks if a number is prime by simple trial division \"\"\"\n",
    "    x = 2  # initialize variable\n",
    "    while x <= int(N ** 0.5):  # while x is smaller than the square root of N\n",
    "        if N % x == 0:  # if N is divisible by x\n",
    "            return False  # then N is not a prime\n",
    "        x += 1  # add one more to x to test the next number\n",
    "    return True  # when no x can be found that divides N, then N must be a prime number\n",
    "\n",
    "# The 9 Heegner Numbers are 1, 2, 3, 7, 11, 19, 43, 67 and 163. For all those, extended trial division works\n",
    "# based on the chosen h, the algorithm will adapt itself to create the right function\n",
    "# \n",
    "for h in [1, 2, 3, 7, 11, 19, 43, 67, 163]:\n",
    "    print(f\"Evaluating h={h}\")\n",
    "    for x in range(1, 100):\n",
    "        for y in range(1, 100):\n",
    "            #print(f\"Evaluating (x, y) : ({x}, {y}) = {get_absolute_value(x,y)}\")\n",
    "            if is_prime_trial_division_in_ufd(x,y) != is_prime(f(x,y)):\n",
    "                print(f\"Failure at (x, y) : ({x}, {y}) = {f(x,y)}\")\n",
    "    print(\"done\")"
   ]
  },
  {
   "cell_type": "code",
   "execution_count": null,
   "outputs": [],
   "source": [],
   "metadata": {
    "collapsed": false,
    "pycharm": {
     "name": "#%%\n"
    }
   }
  }
 ],
 "metadata": {
  "kernelspec": {
   "display_name": "Python 3",
   "language": "python",
   "name": "python3"
  },
  "language_info": {
   "codemirror_mode": {
    "name": "ipython",
    "version": 2
   },
   "file_extension": ".py",
   "mimetype": "text/x-python",
   "name": "python",
   "nbconvert_exporter": "python",
   "pygments_lexer": "ipython2",
   "version": "2.7.6"
  },
  "pycharm": {
   "stem_cell": {
    "cell_type": "raw",
    "source": [],
    "metadata": {
     "collapsed": false
    }
   }
  }
 },
 "nbformat": 4,
 "nbformat_minor": 0
}