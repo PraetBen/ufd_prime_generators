{
 "cells": [
  {
   "cell_type": "code",
   "execution_count": 16,
   "metadata": {
    "collapsed": true,
    "pycharm": {
     "is_executing": false
    }
   },
   "outputs": [],
   "source": [
    "from common import is_prime, get_absolute_value"
   ]
  },
  {
   "cell_type": "code",
   "execution_count": null,
   "outputs": [],
   "source": [
    "def f(x):\n",
    "    return get_absolute_value(x,1)"
   ],
   "metadata": {
    "collapsed": false,
    "pycharm": {
     "name": "#%%\n"
    }
   }
  },
  {
   "cell_type": "code",
   "execution_count": null,
   "outputs": [],
   "source": [
    "def find_composites(cutoff):\n",
    "    \"\"\" \n",
    "        Finds all the composites based on the f(x) defined above, using the following properties. \n",
    "        When f(x) = p*q, \n",
    "            f(x+p) is divisble by p (and another divisor, f(x+p)/p)\n",
    "            f(x+q) is divisble by q (and another divisor, f(x+q)/q)       \n",
    "        Goes first through all x and then will continue to create more composites until everything is done \n",
    "    \"\"\"    \n",
    "    err_x_pos = [] # list to track the x-value of all the composites\n",
    "    err_p = [] # list to track the divisor valus of the type p\n",
    "    err_q = []\n",
    "    counter = 0\n",
    "    for x in range(-1, round(1.2*cutoff**0.5)): #only need to evaluate x up to a bit more than sqrt(x) as the f(x) is quadratic\n",
    "        if (f(x) + x) < cutoff: # as long as the next composite, on f(x)+x is not too big, continue to search for composites\n",
    "            err_x_pos.append(x + f(x)) # add the new x-position to treat to the error list\n",
    "            err_p.append(f(x)) # add the divisor p, equaling f(x) to the error list\n",
    "            err_q.append(f(x+f(x))//f(x)) # add the newly found divisor q to the error list\n",
    "\n",
    "            # now use the newly found composite information (x, p, q) to find more composites\n",
    "            while counter < len(err_x_pos): # while there are still composites to treat\n",
    "                pos_composite1 = err_x_pos[counter] + err_p[counter]  # x + p will be the position of the first generated composite\n",
    "                if pos_composite1 < cutoff: # only keep going if cutoff is not reached yet\n",
    "                    err_x_pos.append(pos_composite1) # add newly found composite to the list\n",
    "                    err_p.append(err_p[counter]) # the divisor stays the same \n",
    "                    q = f(pos_composite1)//err_p[counter]  # calculate the divisor q for the newly generated composite\n",
    "                    err_q.append(q)\n",
    "\n",
    "                    pos_composite2 = err_x_pos[counter] + err_q[counter] # x + q will be the position of the second generated composite\n",
    "                    if pos_composite2 < cutoff: # only keep going if cutoff is not reached yet\n",
    "                        err_x_pos.append(pos_composite2) \n",
    "                        err_p.append(err_q[counter]) # the divisor q will become in next loop a 'p' \n",
    "                        q= f(pos_composite2)//err_q[counter] # calculate the divisor q for the newly generated composite\n",
    "                        err_q.append(q) \n",
    "                counter+=1\n",
    "    return err_x_pos\n",
    "\n",
    "\n",
    "def check_primes(composites, cutoff):\n",
    "    \"\"\" Checks if there are any composites missed\"\"\"    \n",
    "    mistakes = []\n",
    "    for i in range(1, cutoff):\n",
    "        if not (i in composites):\n",
    "            if not(is_prime(f(i))):\n",
    "                mistakes.append(i)\n",
    "    return mistakes\n",
    "\n",
    "def check_composites(composites):\n",
    "    \"\"\" Checks if there are any composites found that are actually primes\"\"\"   \n",
    "    mistakes = []\n",
    "    for composite in composites:\n",
    "        if is_prime(f(composite)):\n",
    "            mistakes.append(composite)\n",
    "    return mistakes"
   ],
   "metadata": {
    "collapsed": false,
    "pycharm": {
     "name": "#%%\n"
    }
   }
  },
  {
   "cell_type": "code",
   "execution_count": null,
   "outputs": [],
   "source": [
    "cutoff = 2000\n",
    "composites = find_composites(cutoff)"
   ],
   "metadata": {
    "collapsed": false,
    "pycharm": {
     "name": "#%%\n"
    }
   }
  },
  {
   "cell_type": "code",
   "execution_count": null,
   "outputs": [],
   "source": [
    "print('Detected composites:')\n",
    "composites.sort()\n",
    "print(composites)"
   ],
   "metadata": {
    "collapsed": false,
    "pycharm": {
     "name": "#%%\n"
    }
   }
  },
  {
   "cell_type": "code",
   "execution_count": null,
   "outputs": [],
   "source": [
    "mistakes = check_primes(composites, cutoff)\n",
    "print('mistakes:')\n",
    "mistakes.sort()\n",
    "print(mistakes)"
   ],
   "metadata": {
    "collapsed": false,
    "pycharm": {
     "name": "#%%\n"
    }
   }
  },
  {
   "cell_type": "code",
   "execution_count": null,
   "outputs": [],
   "source": [
    "mistakes = check_composites(composites)\n",
    "print(mistakes)"
   ],
   "metadata": {
    "collapsed": false,
    "pycharm": {
     "name": "#%%\n"
    }
   }
  },
  {
   "cell_type": "code",
   "execution_count": 11,
   "outputs": [
    {
     "data": {
      "text/plain": "8413"
     },
     "metadata": {},
     "output_type": "execute_result",
     "execution_count": 11
    }
   ],
   "source": [],
   "metadata": {
    "collapsed": false,
    "pycharm": {
     "name": "#%%\n",
     "is_executing": false
    }
   }
  }
 ],
 "metadata": {
  "kernelspec": {
   "display_name": "Python 3",
   "language": "python",
   "name": "python3"
  },
  "language_info": {
   "codemirror_mode": {
    "name": "ipython",
    "version": 2
   },
   "file_extension": ".py",
   "mimetype": "text/x-python",
   "name": "python",
   "nbconvert_exporter": "python",
   "pygments_lexer": "ipython2",
   "version": "2.7.6"
  },
  "pycharm": {
   "stem_cell": {
    "cell_type": "raw",
    "source": [],
    "metadata": {
     "collapsed": false
    }
   }
  }
 },
 "nbformat": 4,
 "nbformat_minor": 0
}