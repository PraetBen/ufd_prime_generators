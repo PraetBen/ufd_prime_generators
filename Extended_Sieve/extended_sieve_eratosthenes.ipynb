{
 "cells": [
  {
   "cell_type": "code",
   "execution_count": 16,
   "metadata": {
    "collapsed": true,
    "pycharm": {
     "is_executing": false
    }
   },
   "outputs": [],
   "source": [
    "from common import is_prime, get_absolute_value\n",
    "\n",
    "def f(x):\n",
    "    return get_absolute_value(x,1)\n",
    "\n",
    "def find_composites(cutoff):\n",
    "    \"\"\" Finds all the composites based on the f(x) defined above, writing as f(x) = p*q, \n",
    "        that f(x+p) is divisble by p\n",
    "        that f(x+q) is divisble by q    \n",
    "    \"\"\"    \n",
    "    err_pos = []\n",
    "    err_del1 = []\n",
    "    err_del2 = []\n",
    "    counter = 0\n",
    "    for x in range(-1, round(cutoff**0.5)*2):\n",
    "        if (f(x) + x) < cutoff:\n",
    "            err_pos.append(x + f(x))\n",
    "            err_del1.append(f(x))\n",
    "            err_del2.append(f(x+f(x))//f(x))\n",
    "\n",
    "            while counter < len(err_pos):\n",
    "                pos_composite1 = err_pos[counter] + err_del1[counter]\n",
    "                if pos_composite1 < cutoff:\n",
    "                    err_pos.append(pos_composite1)\n",
    "                    err_del1.append(err_del1[counter])\n",
    "                    del2 = f(pos_composite1)//err_del1[counter]\n",
    "                    err_del2.append(del2)\n",
    "\n",
    "                    pos_composite2 = err_pos[counter] + err_del2[counter]\n",
    "                    if pos_composite2 < cutoff:\n",
    "                        err_pos.append(pos_composite2)\n",
    "                        err_del1.append(err_del2[counter])\n",
    "                        err_del2.append(f(pos_composite2)//err_del2[counter])\n",
    "                counter+=1\n",
    "    return err_pos\n",
    "\n",
    "\n",
    "def check_primes(composites, cutoff):\n",
    "    \"\"\" Checks if there are any composites missed\"\"\"    \n",
    "    mistakes = []\n",
    "    for i in range(1, cutoff):\n",
    "        if not (i in composites):\n",
    "            if not(is_prime(f(i))):\n",
    "                mistakes.append(i)\n",
    "    return mistakes\n",
    "\n",
    "def check_composites(composites):\n",
    "    \"\"\" Checks if there are any composites found that are actually primes\"\"\"   \n",
    "    mistakes = []\n",
    "    for composite in composites:\n",
    "        if(is_prime(f(composite))):\n",
    "            mistakes.append(composite)\n",
    "    return mistakes\n",
    "\n",
    "cutoff = 2000\n",
    "\n",
    "composites = find_composites(cutoff)"
   ]
  },
  {
   "cell_type": "code",
   "execution_count": null,
   "outputs": [],
   "source": [
    "print('Detected composites:')\n",
    "composites.sort()\n",
    "print(composites)\n",
    "\n",
    "mistakes = check_primes(composites, cutoff)\n",
    "print('mistakes:')\n",
    "mistakes.sort()\n",
    "print(mistakes)\n",
    "\n",
    "mistakes = check_composites(composites)\n",
    "print(mistakes)"
   ],
   "metadata": {
    "collapsed": false,
    "pycharm": {
     "name": "#%%\n"
    }
   }
  },
  {
   "cell_type": "code",
   "execution_count": 11,
   "outputs": [
    {
     "data": {
      "text/plain": "8413"
     },
     "metadata": {},
     "output_type": "execute_result",
     "execution_count": 11
    }
   ],
   "source": [],
   "metadata": {
    "collapsed": false,
    "pycharm": {
     "name": "#%%\n",
     "is_executing": false
    }
   }
  }
 ],
 "metadata": {
  "kernelspec": {
   "display_name": "Python 3",
   "language": "python",
   "name": "python3"
  },
  "language_info": {
   "codemirror_mode": {
    "name": "ipython",
    "version": 2
   },
   "file_extension": ".py",
   "mimetype": "text/x-python",
   "name": "python",
   "nbconvert_exporter": "python",
   "pygments_lexer": "ipython2",
   "version": "2.7.6"
  },
  "pycharm": {
   "stem_cell": {
    "cell_type": "raw",
    "source": [],
    "metadata": {
     "collapsed": false
    }
   }
  }
 },
 "nbformat": 4,
 "nbformat_minor": 0
}