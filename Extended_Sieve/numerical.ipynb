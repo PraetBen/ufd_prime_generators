{
 "cells": [
  {
   "cell_type": "code",
   "execution_count": 1,
   "metadata": {
    "collapsed": true,
    "pycharm": {
     "is_executing": false
    }
   },
   "outputs": [],
   "source": [
    "# initialization of the C value. Possible values; 3, 5, 11, 17, 41.\n",
    "C = 41\n",
    "\n",
    "def f(x):\n",
    "    \"\"\" Returns the value of the function x² + x + C \"\"\"\n",
    "    return x**2 + x + C\n",
    "\n",
    "\n",
    "def is_prime(n):\n",
    "    \"\"\" Checks if a number is prime by (regular) trial division \"\"\"\n",
    "    if n == 2 or n == 3: return True\n",
    "    if n < 2 or n % 2 == 0: return False\n",
    "    if n < 9: return True\n",
    "    if n % 3 == 0: return False\n",
    "    r = int(n ** 0.5)\n",
    "    t = 5\n",
    "    while t <= r:\n",
    "        if n % t == 0: return False\n",
    "        if n % (t + 2) == 0: return False\n",
    "        t += 6\n",
    "    return True"
   ]
  },
  {
   "cell_type": "code",
   "execution_count": 2,
   "outputs": [],
   "source": [
    "def find_x_values_composites(x_max):\n",
    "    \"\"\" \n",
    "        Finds all the x-values of the composites of f(x) defined above, using the following properties. \n",
    "        When f(x) = p*q, \n",
    "            f(x+p) is divisble by p (and another divisor, f(x+p)/p)\n",
    "            f(x+q) is divisble by q (and another divisor, f(x+q)/q)       \n",
    "        Goes first through all x and then will continue to create more composites until everything is treated. \n",
    "        The cutoff value makes sure that the sieve stops after certain cutoff, namely x_max.  \n",
    "    \"\"\"    \n",
    "    err_x_pos = [] # list to track the x-value of all the composites\n",
    "    err_p = [] # list to track the divisor values of the type p\n",
    "    err_q = []\n",
    "    counter = 0\n",
    "    for x in range(-round(1.2*x_max**0.5), round(1.2*x_max**0.5)): #only need to evaluate x up to a bit more than sqrt(x) as the f(x) is quadratic\n",
    "        if (f(x) + x) < x_max: # as long as the next composite, on f(x)+x is not too big, continue to search for composites\n",
    "            err_x_pos.append(x + f(x)) # add the new x-position to treat to the error list\n",
    "            err_p.append(f(x)) # add the divisor p, equaling f(x) to the error list\n",
    "            err_q.append(f(x+f(x))//f(x)) # add the newly found divisor q to the error list\n",
    "\n",
    "            # now use the newly found composite information (x, p, q) to find more composites\n",
    "            while counter < len(err_x_pos): # while there are still composites to treat\n",
    "                pos_composite1 = err_x_pos[counter] + err_p[counter]  # x + p will be the position of the first generated composite\n",
    "                if pos_composite1 < x_max: # only keep going if cutoff is not reached yet\n",
    "                    q = f(pos_composite1)//err_p[counter]  # calculate the divisor q for the newly generated composite\n",
    "                    err_x_pos.append(pos_composite1) # add newly found composite to the list\n",
    "                    err_p.append(err_p[counter]) # the divisor stays the same \n",
    "                    err_q.append(q)\n",
    "\n",
    "                pos_composite2 = err_x_pos[counter] + err_q[counter] # x + q will be the position of the second generated composite\n",
    "                if pos_composite2 < x_max: # only keep going if cutoff is not reached yet\n",
    "                    q = f(pos_composite2)//err_q[counter] # calculate the divisor q for the newly generated composite\n",
    "                    err_x_pos.append(pos_composite2) \n",
    "                    err_p.append(err_q[counter]) # the divisor q will become in next loop a 'p' \n",
    "                    err_q.append(q) \n",
    "                    \n",
    "                counter+=1\n",
    "    return err_x_pos\n",
    "\n",
    "\n",
    "\n",
    "   \n",
    "def get_primes(composites_x, x_max):\n",
    "    \"\"\" Calculates the primes \"\"\"\n",
    "    primes = []\n",
    "    for i in range(1, x_max):\n",
    "        if not (i in composites_x):\n",
    "            primes.append(f(i))\n",
    "    return primes\n",
    "\n",
    "def check_primes(composites_x, x_max):\n",
    "    \"\"\" Checks if there are any composites missed \"\"\"\n",
    "    errors = []\n",
    "    for i in range(1, x_max):\n",
    "        if not (i in composites_x):\n",
    "            if not(is_prime(f(i))):\n",
    "                errors.append(f(i))\n",
    "    return errors\n",
    "\n",
    "def check_composites(composites_x):\n",
    "    \"\"\" Checks if there are any composites (working with x-value) that are actually primes \"\"\"\n",
    "    mistakes = []\n",
    "    for composite in composites_x:\n",
    "        if is_prime(f(composite)):\n",
    "            mistakes.append(f(composite))\n",
    "    return mistakes"
   ],
   "metadata": {
    "collapsed": false,
    "pycharm": {
     "name": "#%%\n",
     "is_executing": false
    }
   }
  },
  {
   "cell_type": "code",
   "execution_count": 3,
   "outputs": [],
   "source": [
    "cutoff_value = 155\n",
    "composites_x_values = find_x_values_composites(cutoff_value)"
   ],
   "metadata": {
    "collapsed": false,
    "pycharm": {
     "name": "#%%\n",
     "is_executing": false
    }
   }
  },
  {
   "cell_type": "code",
   "execution_count": 4,
   "outputs": [
    {
     "name": "stdout",
     "text": [
      "Detected composites (x-position):\n[40, 41, 41, 44, 44, 49, 49, 56, 56, 65, 65, 76, 76, 81, 81, 82, 82, 84, 84, 87, 87, 89, 89, 91, 91, 96, 96, 102, 102, 104, 104, 109, 109, 117, 117, 121, 121, 122, 122, 123, 123, 126, 126, 127, 127, 130, 130, 136, 136, 138, 138, 140, 140, 143, 143, 147, 147]\n"
     ],
     "output_type": "stream"
    }
   ],
   "source": [
    "print('Detected composites (x-position):')\n",
    "composites_x_values.sort()\n",
    "print(composites_x_values)\n"
   ],
   "metadata": {
    "collapsed": false,
    "pycharm": {
     "name": "#%%\n",
     "is_executing": false
    }
   }
  },
  {
   "cell_type": "code",
   "execution_count": 5,
   "outputs": [
    {
     "name": "stdout",
     "text": [
      "Calculated primes that are not actually prime:\n[]\n"
     ],
     "output_type": "stream"
    }
   ],
   "source": [
    "mistakes = check_primes(composites_x_values, cutoff_value)\n",
    "print('Calculated primes that are not actually prime:')\n",
    "mistakes.sort()\n",
    "print(mistakes)"
   ],
   "metadata": {
    "collapsed": false,
    "pycharm": {
     "name": "#%%\n",
     "is_executing": false
    }
   }
  },
  {
   "cell_type": "code",
   "execution_count": 6,
   "outputs": [
    {
     "name": "stdout",
     "text": [
      "Calculated composites that are actually prime:\n[]\n"
     ],
     "output_type": "stream"
    }
   ],
   "source": [
    "mistakes = check_composites(composites_x_values)\n",
    "print('Calculated composites that are actually prime:')\n",
    "print(mistakes)"
   ],
   "metadata": {
    "collapsed": false,
    "pycharm": {
     "name": "#%%\n",
     "is_executing": false
    }
   }
  },
  {
   "cell_type": "code",
   "execution_count": null,
   "outputs": [],
   "source": [],
   "metadata": {
    "collapsed": false,
    "pycharm": {
     "name": "#%%"
    }
   }
  }
 ],
 "metadata": {
  "kernelspec": {
   "display_name": "Python 3",
   "language": "python",
   "name": "python3"
  },
  "language_info": {
   "codemirror_mode": {
    "name": "ipython",
    "version": 2
   },
   "file_extension": ".py",
   "mimetype": "text/x-python",
   "name": "python",
   "nbconvert_exporter": "python",
   "pygments_lexer": "ipython2",
   "version": "2.7.6"
  },
  "pycharm": {
   "stem_cell": {
    "cell_type": "raw",
    "source": [],
    "metadata": {
     "collapsed": false
    }
   }
  }
 },
 "nbformat": 4,
 "nbformat_minor": 0
}