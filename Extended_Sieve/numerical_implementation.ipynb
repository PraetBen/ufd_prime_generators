{
 "cells": [
  {
   "cell_type": "code",
   "execution_count": 47,
   "metadata": {
    "collapsed": true,
    "pycharm": {
     "is_executing": false
    }
   },
   "outputs": [],
   "source": [
    "# The 9 Heegner Numbers are 1, 2, 3, 7, 11, 19, 43, 67 and 163. For all those, extended sieving works\n",
    "# based on the chosen h, the algorithm will adapt itself to create the right function\n",
    "\n",
    "d = 163\n",
    "\n",
    "def f(x, y =1):\n",
    "    \"\"\" General method that returns the value of the function x² + xy + Cy² or x² + C y², depending on the value of h \"\"\"\n",
    "    if d % 4 == 3:\n",
    "        C = int((d+1)/4)\n",
    "        return x ** 2 + x * y + C * y ** 2\n",
    "    else:\n",
    "        # this covers the case when d equals 1 or 2\n",
    "        C = d\n",
    "        return x ** 2 + C * y ** 2\n",
    "\n",
    "def is_prime(n):\n",
    "    \"\"\" Checks if a number is prime by (regular) trial division \"\"\"\n",
    "    if n == 2 or n == 3: return True\n",
    "    if n < 2 or n % 2 == 0: return False\n",
    "    if n < 9: return True\n",
    "    if n % 3 == 0: return False\n",
    "    r = int(n ** 0.5)\n",
    "    t = 5\n",
    "    while t <= r:\n",
    "        if n % t == 0: return False\n",
    "        if n % (t + 2) == 0: return False\n",
    "        t += 6\n",
    "    return True\n",
    "\n",
    "\n",
    "\n",
    "def find_x_values_composites(x_max):\n",
    "    \"\"\" \n",
    "        Finds all the x-values of the composites of f(x) defined above, using the following properties. \n",
    "        When f(x) = p*q, \n",
    "            f(x+k*q) is divisible by q (and another divisor, f(x+q)/q) for each k\n",
    "        Goes first through all x and then will continue to create more composites until everything is treated. \n",
    "        The cutoff value makes sure that the sieve stops after certain cutoff, namely x_max.  \n",
    "    \"\"\"    \n",
    "    err_x_pos = [] # list to track the x-value of all the composites\n",
    "    err_q = []\n",
    "    counter = 0    \n",
    "    \n",
    "    for x in range(-round(1.2*x_max**0.5), round(1.2*x_max**0.5)): # only need to evaluate x up to a bit more than sqrt(x) as the f(x) is quadratic\n",
    "        if (x+f(x)) < x_max: # as long as the first composite, on f(x)+x is not too big, search for composites\n",
    "            if f(x) != 1 and f(x) != f(x+f(x)): # For some small h, we need to filter out some edge cases \n",
    "                err_x_pos.append(x+f(x)) # add the first x-position to treat to the error list\n",
    "                err_q.append(f(x)) # add the divisor q, equaling f(x) to the error list\n",
    "\n",
    "            # now start to find more composites, until done\n",
    "            while counter < len(err_x_pos): # while there are still composites to treat\n",
    "                k = 1 # start a counter for k to generate all the composites on x + k*q\n",
    "                while (err_x_pos[counter] + k * err_q[counter]) < x_max: # add those composites only that don't exceed the cutoff value\n",
    "                    pos = err_x_pos[counter] + k * err_q[counter] \n",
    "                    q = f(pos)//err_q[counter] \n",
    "                    \n",
    "                    err_x_pos.append(pos) \n",
    "                    err_q.append(q)\n",
    "                    k += 1\n",
    "                counter+=1\n",
    "    return err_x_pos\n",
    "\n",
    "\n",
    "   \n",
    "def get_primes(composites_x, x_max):\n",
    "    \"\"\" Calculates the primes \"\"\"\n",
    "    primes = []\n",
    "    for i in range(1, x_max):\n",
    "        if not (i in composites_x):\n",
    "            primes.append(f(i))\n",
    "    return primes\n",
    "\n",
    "def check_primes(composites_x, x_max):\n",
    "    \"\"\" Checks if there are any composites missed \"\"\"\n",
    "    missed = []\n",
    "    for i in range(1, x_max):\n",
    "        if not (i in composites_x):\n",
    "            if not(is_prime(f(i))):\n",
    "                missed.append(i)\n",
    "    return missed\n",
    "\n",
    "def check_composites(composites_x):\n",
    "    \"\"\" Checks if there are any composites detected that are actually primes \"\"\"\n",
    "    errors = []\n",
    "    for composite in composites_x:\n",
    "        if is_prime(f(composite)):\n",
    "            errors.append(composite)\n",
    "    return errors"
   ]
  },
  {
   "cell_type": "code",
   "execution_count": 48,
   "outputs": [
    {
     "name": "stdout",
     "text": [
      "Sieving the polynomial using d=163 up until 150\nDetected composites (x-position):\n[40, 41, 41, 44, 44, 49, 49, 56, 56, 65, 65, 76, 76, 81, 82, 84, 87, 89, 89, 91, 96, 102, 104, 104, 109, 117, 121, 121, 122, 123, 126, 127, 130, 136, 138, 140, 140, 143, 147]\nEvaluating results....\nThe sieve did not miss any composites\nThere are no primes mistakenly crossed out\n"
     ],
     "output_type": "stream"
    }
   ],
   "source": [
    "cutoff_value = 150\n",
    "print(f\"Sieving the polynomial using d={d} up until {cutoff_value}\")\n",
    "composites_x_values = find_x_values_composites(cutoff_value)\n",
    "composites_x_values.sort()\n",
    "print('Detected composites (x-position):')\n",
    "print(composites_x_values)\n",
    "\n",
    "\n",
    "print(\"Evaluating results....\")\n",
    "missed = check_primes(composites_x_values, cutoff_value)\n",
    "if missed:    \n",
    "    print('There are still composites not found (x-position):')\n",
    "    missed.sort()\n",
    "    print(missed)\n",
    "else:\n",
    "    print(\"The sieve did not miss any composites\")\n",
    "    \n",
    "errors = check_composites(composites_x_values)\n",
    "if errors:\n",
    "    print('There are crossed out primes (x-position):')\n",
    "    errors.sort()\n",
    "    print(errors.sort())\n",
    "else:\n",
    "    print(\"There are no primes mistakenly crossed out\")\n"
   ],
   "metadata": {
    "collapsed": false,
    "pycharm": {
     "name": "#%%\n",
     "is_executing": false
    }
   }
  }
 ],
 "metadata": {
  "kernelspec": {
   "display_name": "Python 3",
   "language": "python",
   "name": "python3"
  },
  "language_info": {
   "codemirror_mode": {
    "name": "ipython",
    "version": 2
   },
   "file_extension": ".py",
   "mimetype": "text/x-python",
   "name": "python",
   "nbconvert_exporter": "python",
   "pygments_lexer": "ipython2",
   "version": "2.7.6"
  },
  "pycharm": {
   "stem_cell": {
    "cell_type": "raw",
    "source": [],
    "metadata": {
     "collapsed": false
    }
   }
  }
 },
 "nbformat": 4,
 "nbformat_minor": 0
}