{
 "cells": [
  {
   "cell_type": "markdown",
   "metadata": {},
   "source": [
    "# Recursively calculating the new divisor 'q'"
   ]
  },
  {
   "cell_type": "markdown",
   "metadata": {},
   "source": [
    "Calculating the second, unknown, divisor can be done by calculating it directly, namely by f(x+kq)/q\n",
    "However, another method exists, based on a recursively algorithm, avoiding the need to use a division. \n",
    "The following guides you through this method, explaining it step by step."
   ]
  },
  {
   "cell_type": "code",
   "execution_count": 1,
   "metadata": {
    "pycharm": {
     "is_executing": false
    }
   },
   "outputs": [],
   "source": [
    "C = 41\n",
    "\n",
    "def f(x, y):\n",
    "    \"\"\" Returns the value of the function x²+xy+y²*C \"\"\"\n",
    "    return x ** 2 + x * y + C * y ** 2"
   ]
  },
  {
   "cell_type": "markdown",
   "metadata": {
    "pycharm": {
     "is_executing": false,
     "name": "#%% md\n"
    }
   },
   "source": [
    "The first step, to be consistent, is to calculate the first divisor. As shown in the article, this is simply (c0,d0) = 1 "
   ]
  },
  {
   "cell_type": "code",
   "execution_count": 2,
   "metadata": {
    "pycharm": {
     "name": "#%%\n"
    }
   },
   "outputs": [
    {
     "name": "stdout",
     "output_type": "stream",
     "text": [
      "Value of q0: 1\n"
     ]
    }
   ],
   "source": [
    "c0 = 1\n",
    "d0 = 0\n",
    "q0 = f(c0, d0)\n",
    "print(f\"Value of q0: {q0}\")"
   ]
  },
  {
   "cell_type": "markdown",
   "metadata": {},
   "source": [
    "The value of q0 is 1. Next we have to calculate the value of the divisor. As shown in the article, this is simply (k0, 1). Feel free to change the k0 to any value."
   ]
  },
  {
   "cell_type": "code",
   "execution_count": 3,
   "metadata": {
    "pycharm": {
     "is_executing": false,
     "name": "#%%\n"
    }
   },
   "outputs": [
    {
     "name": "stdout",
     "output_type": "stream",
     "text": [
      "Calculated value of q1: 43\n",
      "This means that f(1) = 43 is divisble by 43 and 1\n"
     ]
    }
   ],
   "source": [
    "k0 = 1\n",
    "c1 = k0\n",
    "d1 = 1\n",
    "q1 = f(c1, d1)\n",
    "\n",
    "print(f\"Calculated value of q1: {q1}\")\n",
    "print(f\"This means that f({k0}) = {f(k0)} is divisble by {q1} and {q0}\")"
   ]
  },
  {
   "cell_type": "markdown",
   "metadata": {},
   "source": [
    "So far, nothing shocking. Going a step further, we can calculate the value of the next divisor"
   ]
  },
  {
   "cell_type": "code",
   "execution_count": 5,
   "metadata": {
    "pycharm": {
     "is_executing": false,
     "name": "#%%\n"
    }
   },
   "outputs": [
    {
     "name": "stdout",
     "output_type": "stream",
     "text": [
      "Calculated value of q2: 179\n",
      "This means that f(87) = 7697 is divisble by 179 and 43\n"
     ]
    }
   ],
   "source": [
    "k1 = 2\n",
    "c2 = c0 + c1*k1\n",
    "d2 = d0 + d1*k1\n",
    "q2 = f(c2,d2)\n",
    "\n",
    "print(f\"Calculated value of q2: {q2}\")\n",
    "print(f\"This means that f({k0+k1*q1}) = {f(k0+k1*q1)} is divisble by {q2} and {q1}\")"
   ]
  },
  {
   "cell_type": "markdown",
   "metadata": {},
   "source": [
    "As one can see, we managed to predict the divisor q2, for any x1 and x2 chosen. Next, we continue by showing this for x3. Afterwards, we provide a more general way to calculate any qi. "
   ]
  },
  {
   "cell_type": "code",
   "execution_count": 10,
   "metadata": {
    "pycharm": {
     "is_executing": false,
     "name": "#%%\n"
    }
   },
   "outputs": [
    {
     "name": "stdout",
     "output_type": "stream",
     "text": [
      "Calculated value of q3: (7,5) = 1109\n",
      "This means that f(445) = 198511 is divisble by 1109 and 179\n"
     ]
    }
   ],
   "source": [
    "k2 = 2\n",
    "f(k0+k1*q1+k2*q2)\n",
    "c3 = c1 + c2*k2\n",
    "d3 = d1 + d2*k2\n",
    "q3 = f(c3, d3)\n",
    "\n",
    "\n",
    "print(f\"Calculated value of q3: ({c3},{d3}) = {q3}\")\n",
    "print(f\"This means that f({k0+k1*q1+k2*q2}) = {f(k0+k1*q1+k2*q2)} is divisble by {q3} and {q2}\")"
   ]
  },
  {
   "cell_type": "markdown",
   "metadata": {},
   "source": [
    "In the next cell, we show that it is possible to calculate any (ci, di) pair, using any x1, x2, x3, ...., xi.\n",
    "The previous cell will be used to demonstrate that it is possible to calculate this directly."
   ]
  },
  {
   "cell_type": "code",
   "execution_count": 11,
   "metadata": {
    "pycharm": {
     "is_executing": false,
     "name": "#%%\n"
    }
   },
   "outputs": [],
   "source": [
    "def calculate_cd(x):\n",
    "    \"\"\" Method that allows to directly compute a c,d using a path x=[]\"\"\"\n",
    "    c0 = 1 # always 1\n",
    "    d0 = 0 # always 0\n",
    "    c1 = x[0] # equals x1\n",
    "    d1 = 1 # always 1\n",
    "    \n",
    "    cds = [[c0,d0], [c1 ,d1]]\n",
    "    for xi in x[1:]:\n",
    "        c = cds[-2][0] + cds[-1][0]*xi\n",
    "        d = cds[-2][1] + cds[-1][1]*xi\n",
    "        cds.append([c, d])\n",
    "\n",
    "    return cds"
   ]
  },
  {
   "cell_type": "markdown",
   "metadata": {},
   "source": [
    "In the next block, it is shown that we can find the exact same divisor as above, using the calculate_cd method."
   ]
  },
  {
   "cell_type": "code",
   "execution_count": 16,
   "metadata": {
    "pycharm": {
     "is_executing": false,
     "name": "#%%\n"
    }
   },
   "outputs": [
    {
     "name": "stdout",
     "output_type": "stream",
     "text": [
      "1109\n"
     ]
    }
   ],
   "source": [
    "x = [k0, k1, k2]\n",
    "c,d = calculate_cd(x)[-1]\n",
    "print(f(c,d))"
   ]
  },
  {
   "cell_type": "markdown",
   "metadata": {},
   "source": [
    "Next, here is a method to calculate the next composite, given a path of x1, x2, x3, ...., xi"
   ]
  },
  {
   "cell_type": "code",
   "execution_count": 17,
   "metadata": {
    "pycharm": {
     "is_executing": false,
     "name": "#%%\n"
    }
   },
   "outputs": [],
   "source": [
    "# importing the necessary packages\n",
    "import numpy as np"
   ]
  },
  {
   "cell_type": "code",
   "execution_count": null,
   "outputs": [],
   "source": [
    "def calculate_pos(x):\n",
    "    \"\"\" Method that allows to directly compute the position of a composite using a path x=[]\"\"\"\n",
    "    cds = calculate_cd(x)\n",
    "    p = []\n",
    "    for cd in cds:\n",
    "        p.append(f(cd[0], cd[1]))\n",
    "\n",
    "    return np.dot(x, p[:-1])"
   ],
   "metadata": {
    "collapsed": false,
    "pycharm": {
     "name": "#%%\n"
    }
   }
  },
  {
   "cell_type": "markdown",
   "metadata": {},
   "source": [
    "Here we can now find indeed the same composite position x, by just bringing using the 'path' followed, namely x1, x2, x3, ..., xi."
   ]
  },
  {
   "cell_type": "code",
   "execution_count": 23,
   "metadata": {
    "pycharm": {
     "is_executing": false,
     "name": "#%%\n"
    }
   },
   "outputs": [
    {
     "name": "stdout",
     "output_type": "stream",
     "text": [
      "445\n"
     ]
    }
   ],
   "source": [
    "x = [k0, k1, k2]\n",
    "print(calculate_pos(x))"
   ]
  }
 ],
 "metadata": {
  "kernelspec": {
   "display_name": "Python 3",
   "language": "python",
   "name": "python3"
  },
  "language_info": {
   "codemirror_mode": {
    "name": "ipython",
    "version": 3
   },
   "file_extension": ".py",
   "mimetype": "text/x-python",
   "name": "python",
   "nbconvert_exporter": "python",
   "pygments_lexer": "ipython3",
   "version": "3.7.2"
  },
  "pycharm": {
   "stem_cell": {
    "cell_type": "raw",
    "source": [],
    "metadata": {
     "collapsed": false
    }
   }
  }
 },
 "nbformat": 4,
 "nbformat_minor": 1
}