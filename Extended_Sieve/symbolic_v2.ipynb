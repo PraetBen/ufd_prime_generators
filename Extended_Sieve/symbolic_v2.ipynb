{
 "cells": [
  {
   "cell_type": "code",
   "execution_count": 1,
   "metadata": {
    "collapsed": true,
    "pycharm": {
     "name": "#%%\n",
     "is_executing": false
    }
   },
   "outputs": [],
   "source": [
    "# sympy provides the tool to work with functions in an analytical manner \n",
    "from sympy import *"
   ]
  },
  {
   "cell_type": "code",
   "execution_count": 4,
   "outputs": [],
   "source": [
    "x = Symbol('x')\n",
    "k = Symbol('k')\n",
    "C = 41\n",
    "# definition of the function to sieve\n",
    "f = x**2 + x + C\n",
    "\n",
    "def is_prime(n):\n",
    "    \"\"\" Checks if a number is prime by (regular) trial division \"\"\"\n",
    "    if n == 2 or n == 3: return True\n",
    "    if n < 2 or n % 2 == 0: return False\n",
    "    if n < 9: return True\n",
    "    if n % 3 == 0: return False\n",
    "    r = int(n ** 0.5)\n",
    "    t = 5\n",
    "    while t <= r:\n",
    "        if n % t == 0: return False\n",
    "        if n % (t + 2) == 0: return False\n",
    "        t += 6\n",
    "    return True\n",
    "\n",
    "\n",
    "def find_composite_functions(cutoff):\n",
    "    \"\"\" \n",
    "        This method implements the sieve as presented in the article. \n",
    "        It finds all the f(x) that contain all the composites for each x = 1,2,3,...\n",
    "        This is done by computing the divisors symbolically: \n",
    "            q = f(x+kp)/p \n",
    "         or q_i+1 = f(x+kq_i)/q_i, depending on the notation used.\n",
    "    \"\"\"\n",
    "    err_pos = []\n",
    "    err_q = []\n",
    "    found = []\n",
    "\n",
    "    #creation of first composite\n",
    "    err_pos.append(x)\n",
    "    err_q.append(f.subs(x, x))\n",
    "\n",
    "    counter = 0\n",
    "    while counter < len(err_pos):\n",
    "        pos = err_pos[counter] + k * err_q[counter]\n",
    "        q = simplify(f.subs(x, pos)/err_q[counter])\n",
    "        h=1\n",
    "        while pos.subs([(k,h),(x,0)]) < cutoff:\n",
    "            found.append(pos.subs(k,h))\n",
    "            err_pos.append(pos.subs(k,h))\n",
    "            err_q.append(q.subs(k,h))\n",
    "            h+=1\n",
    "\n",
    "        counter+=1\n",
    "    return found\n",
    "\n",
    "def find_composites(cutoff):\n",
    "    \"\"\" Evaluates the generated composite functions f(x) for each x, to find all the composite x values \"\"\"\n",
    "    composite_functions = find_composite_functions(cutoff)\n",
    "    err_pos = []\n",
    "    for composite_function in composite_functions:\n",
    "        h=-1\n",
    "        while composite_function.subs(x,h) < cutoff:\n",
    "            err_pos.append(composite_function.subs(x, h))\n",
    "            h+=1\n",
    "    return err_pos\n",
    "\n",
    "def check_primes(composites, cutoff):\n",
    "    \"\"\" Checks if there are any composites missed \"\"\"\n",
    "    mistakes = []\n",
    "    for i in range(1, cutoff):\n",
    "        if not (i in composites):\n",
    "            if not(is_prime(f.subs(x,i))):\n",
    "                mistakes.append(i)\n",
    "                #print('failed at i' + str(i))\n",
    "\n",
    "    return mistakes"
   ],
   "metadata": {
    "collapsed": false,
    "pycharm": {
     "name": "#%%\n",
     "is_executing": false
    }
   }
  },
  {
   "cell_type": "code",
   "execution_count": 5,
   "outputs": [
    {
     "name": "stdout",
     "text": [
      "Detected composites (x-position):\n[40, 41, 44, 49, 56, 65, 76, 81, 81, 82, 84, 87, 89, 91, 96, 102, 104, 109, 117, 121, 122, 122, 123, 126, 127, 130, 136, 138, 140, 143, 147, 155, 159, 161, 162, 163, 163, 164, 170, 172, 173, 178, 184, 185, 186, 187, 190, 201, 204, 204, 205, 207, 208, 209, 213, 215, 216, 217, 218, 232, 234, 236, 237, 239, 242, 244, 244, 245, 245, 246, 248, 249, 251, 252, 255, 256, 259, 261, 265, 266, 268, 270, 271, 278, 279, 283, 284, 286, 286, 287, 289, 291, 295, 296, 298, 299, 300, 301, 302, 309, 312, 314, 321, 325, 326, 327, 327, 328, 329, 330, 331, 334, 336, 338, 342, 344, 345, 347, 349, 357, 360, 361, 364, 367, 368, 368, 369, 370, 373, 374, 378, 380, 381, 383, 385, 388, 389, 395, 399, 401, 402, 406, 407, 407, 408, 409, 409, 410, 416, 418, 420, 420, 420, 421, 422, 425, 427, 428, 431, 431, 431, 432, 440, 442, 443, 445, 449, 450, 450, 451, 454, 459, 460, 463, 466, 467, 471, 472, 473, 474, 477, 480, 481, 483, 487, 489, 489, 491, 491, 491, 491, 492, 492, 492, 494, 496, 500, 502, 504, 506, 507, 514, 514, 514, 516, 517, 519, 524, 526, 527, 530, 531, 532, 532, 533, 533, 533, 544, 545, 546, 547, 553, 556, 557, 560, 561, 562, 563, 566, 569, 570, 570, 571, 573, 573, 573, 573, 574, 574, 574, 577, 578, 579, 582, 583, 585, 586, 587, 589, 593, 600, 603, 603, 605, 608, 609, 611, 611, 612, 613, 614, 614, 614, 614, 615, 616, 620, 622, 624, 628, 630, 632, 633, 636, 639, 642, 643, 644, 645, 646, 652, 655, 655, 655, 655, 656, 657, 660, 661, 662, 663, 664, 665, 666, 669, 670, 671, 675, 676, 679, 680, 682, 685, 686, 686, 686, 689, 692, 693, 696, 696, 697, 699, 701, 702, 703, 704, 707, 711, 715, 716, 721, 727, 729, 732, 733, 733, 734, 736, 737, 737, 738, 738, 738, 739, 740, 744, 745, 747, 749, 750, 752, 753, 754, 758, 761, 764, 765, 767, 768, 769, 772, 773, 775, 775, 775, 776, 778, 778, 779, 782, 783, 784, 786, 788, 790, 791, 795, 796, 797, 798, 798, 799, 800, 801, 803, 807, 814, 815, 816, 816, 818, 819, 819, 820, 822, 823, 824, 825, 827, 834, 835, 836, 843, 844, 846, 847, 848, 849, 851, 853, 854, 856, 856, 857, 858, 858, 858, 860, 860, 861, 861, 861, 865, 867, 869, 874, 876, 878, 880, 881, 885, 890, 890, 891, 892, 895, 895, 895, 896, 896, 897, 898, 901, 901, 901, 901, 902, 904, 904, 904, 905, 906, 907, 910, 912, 915, 916, 917, 917, 918, 919, 919, 919, 922, 924, 925, 926, 928, 937, 940, 942, 942, 942, 942, 943, 944, 947, 950, 951, 955, 956, 957, 959, 962, 963, 966, 971, 972, 977, 978, 980, 981, 982, 983, 984, 984, 984, 986, 987, 988, 989, 989, 989, 990, 995, 997, 999]\n",
      "Calculated primes that are not actually prime:\n[]\n"
     ],
     "output_type": "stream"
    }
   ],
   "source": [
    "\n",
    "cutoff = 10**3\n",
    "\n",
    "composites = find_composites(cutoff)\n",
    "\n",
    "print('Detected composites (x-position):')\n",
    "composites.sort()\n",
    "print(composites)\n",
    "mistakes = check_primes(composites, cutoff)\n",
    "print('Calculated primes that are not actually prime:')\n",
    "mistakes.sort()\n",
    "print(mistakes)\n",
    "\n"
   ],
   "metadata": {
    "collapsed": false,
    "pycharm": {
     "name": "#%%\n",
     "is_executing": false
    }
   }
  }
 ],
 "metadata": {
  "kernelspec": {
   "display_name": "Python 3",
   "language": "python",
   "name": "python3"
  },
  "language_info": {
   "codemirror_mode": {
    "name": "ipython",
    "version": 2
   },
   "file_extension": ".py",
   "mimetype": "text/x-python",
   "name": "python",
   "nbconvert_exporter": "python",
   "pygments_lexer": "ipython2",
   "version": "2.7.6"
  },
  "pycharm": {
   "stem_cell": {
    "cell_type": "raw",
    "source": [],
    "metadata": {
     "collapsed": false
    }
   }
  }
 },
 "nbformat": 4,
 "nbformat_minor": 0
}