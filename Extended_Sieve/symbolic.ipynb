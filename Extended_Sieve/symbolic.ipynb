{
 "cells": [
  {
   "cell_type": "code",
   "execution_count": 8,
   "metadata": {
    "collapsed": true,
    "pycharm": {
     "is_executing": false
    }
   },
   "outputs": [],
   "source": [
    "from sympy import *\n",
    "from common import is_prime\n"
   ]
  },
  {
   "cell_type": "code",
   "execution_count": 11,
   "outputs": [],
   "source": [
    "# initialization of the C value. Possible values; 3, 5, 11, 17, 41.\n",
    "C = 41\n",
    "\n",
    "x = Symbol('x')\n",
    "f = x**2 + x + C\n",
    "# the function is in fact shifted with x-2 to exploit the symmetry in it, and avoiding to deal with negative x\n",
    "f = f.subs(x, x-2)\n",
    "\n",
    "def find_composite_functions(cutoff):\n",
    "    \"\"\" \n",
    "        Finds all the x-values of the composites of f(x) defined above, using the following properties. \n",
    "        When f(x) = p*q, \n",
    "            f(x+p) is divisble by p (and another divisor, f(x+p)/p)\n",
    "            f(x+q) is divisble by q (and another divisor, f(x+q)/q)       \n",
    "        Goes first through all x and then will continue to create more composites until everything is treated. \n",
    "        The cutoff value makes sure that the sieve stops after certain cutoff, namely x_max.  \n",
    "   \"\"\"  \n",
    "        \n",
    "    err_x_pos = []\n",
    "    err_p = []\n",
    "    err_q = []\n",
    "    counter = 0\n",
    "\n",
    "    #creation of first composite\n",
    "    err_x_pos.append(x + f.subs(x, x))\n",
    "    err_p.append(f.subs(x,x))\n",
    "    err_q.append(simplify(f.subs(x, x+f.subs(x, x))/f.subs(x, x)))\n",
    "\n",
    "    while counter < len(err_x_pos):\n",
    "        pos_composite1 = err_x_pos[counter] + err_p[counter]\n",
    "        if pos_composite1.subs(x, 1) < cutoff:\n",
    "            err_x_pos.append(pos_composite1)\n",
    "            err_p.append(err_p[counter])\n",
    "            q = f.subs(x, pos_composite1)/err_p[counter]\n",
    "            err_q.append(q)\n",
    "\n",
    "        pos_composite2 = err_x_pos[counter] + err_q[counter]\n",
    "        if pos_composite2.subs(x,0) < cutoff:\n",
    "            err_x_pos.append(pos_composite2)\n",
    "            err_p.append(err_q[counter])\n",
    "            q = f.subs(x, pos_composite1)/err_p[counter]\n",
    "            err_q.append(q)\n",
    "            #err_del2.append(del2) #gebruik makend dat er gemeenschappelijke deler is blijkbaar\n",
    "        counter+=1\n",
    "    return err_x_pos\n",
    "\n",
    "def find_composites(cutoff):\n",
    "    composite_functions = find_composite_functions(cutoff)\n",
    "    err_pos = []\n",
    "    for f in composite_functions:\n",
    "        h=-1\n",
    "        while f.subs(x,h) < cutoff:\n",
    "            err_pos.append(f.subs(x, h))\n",
    "            h+=1\n",
    "    return err_pos\n",
    "\n",
    "\n",
    "def check_primes(composites, cutoff):\n",
    "    mistakes = []\n",
    "    for i in range(1, cutoff):\n",
    "        if not i in composites:\n",
    "            if not is_prime(f.subs(x,i)):\n",
    "                mistakes.append(i)\n",
    "                #print('failed at i' + str(i))\n",
    "    return mistakes"
   ],
   "metadata": {
    "collapsed": false,
    "pycharm": {
     "name": "#%%\n",
     "is_executing": false
    }
   }
  },
  {
   "cell_type": "code",
   "execution_count": 13,
   "outputs": [
    {
     "name": "stdout",
     "text": [
      "Detected composites (x-position):\n[42, 43, 43, 46, 46, 51, 58, 67, 78, 83, 83, 84, 84, 86, 86, 89, 89, 91, 93, 93, 98, 104, 106, 111, 119, 123, 124, 124, 125, 125, 128, 129, 129, 132, 132, 138, 140, 140, 142, 145, 149, 157, 161, 163, 164, 165, 165, 166, 166, 172, 172, 174, 175, 175, 180, 186, 187, 187, 188, 189, 192, 203, 206, 206, 207, 207, 209, 210, 211, 215, 215, 217, 218, 218, 219, 220, 234, 234, 236, 238, 239, 241, 244, 246, 246, 247, 247, 248, 248, 250, 251, 251, 253, 253, 254, 257, 258, 258, 261, 261, 263, 267, 268, 268, 270, 272, 272, 273, 280, 281, 281, 285, 286, 288, 288, 289, 289, 291, 293, 297, 298, 300, 301, 301, 302, 303, 304, 304, 311, 314, 316, 323, 327, 328, 328, 329, 329, 330, 330, 331, 332, 333, 336, 338, 340, 344, 344, 346, 347, 347, 349, 351, 359, 362, 363, 366, 369, 370, 370, 371, 371, 372, 375, 375, 376, 380, 382, 383, 385, 387, 387, 390, 390, 391, 397, 401, 403, 404, 408, 409, 409, 410, 411, 411, 412, 412, 418, 418, 420, 420, 422, 422, 422, 422, 423, 424, 427, 429, 430, 430, 433, 433, 433, 433, 434, 442, 444, 445, 447, 447, 451, 451, 452, 452, 453, 453, 456, 461, 462, 465, 468, 469, 469, 473, 473, 474, 475, 476, 476, 479, 482, 483, 485, 489, 491, 491, 493, 493, 493, 493, 494, 494, 494, 494, 496, 498, 498, 502, 504, 506, 508, 508, 509, 516, 516, 516, 516, 516, 518, 519, 519, 521, 526, 528, 529, 529, 532, 533, 534, 534, 535, 535, 535, 535, 546, 547, 548, 549, 549, 555, 558, 559, 559, 562, 562, 563, 563, 564, 565, 568, 571, 572, 572, 573, 575, 575, 575, 575, 576, 576, 576, 576, 579, 580, 581, 584, 585, 585, 587, 587, 588, 589, 591, 595, 602, 602, 605, 605, 605, 607, 610, 610, 611, 613, 613, 614, 615, 616, 616, 616, 616, 617, 617, 618, 622, 624, 624, 626, 626, 630, 630, 632, 632, 634, 635, 638, 641, 644, 645, 645, 646, 647, 648, 648, 654, 657, 657, 657, 657, 657, 658, 658, 659, 662, 663, 664, 665, 665, 666, 667, 668, 671, 672, 673, 677, 678, 681, 681, 682, 684, 687, 688, 688, 688, 688, 691, 691, 694, 695, 698, 698, 699, 699, 701, 703, 704, 704, 705, 706, 709, 713, 717, 718, 723, 729, 731, 731, 734, 734, 735, 735, 736, 738, 739, 739, 740, 740, 740, 740, 741, 742, 746, 747, 749, 751, 751, 752, 752, 754, 754, 755, 756, 760, 763, 766, 767, 769, 770, 771, 774, 774, 775, 777, 777, 777, 777, 778, 780, 780, 781, 781, 784, 785, 786, 788, 790, 792, 793, 797, 798, 798, 799, 800, 800, 801, 802, 803, 805, 805, 809, 809, 816, 817, 817, 818, 818, 820, 820, 821, 821, 822, 822, 824, 825, 826, 827, 827, 829, 836, 837, 838, 845, 845, 846, 848, 849, 849, 850, 851, 853, 855, 856, 858, 858, 859, 860, 860, 860, 860, 862, 862, 863, 863, 863, 863, 863, 867, 869, 871, 871, 876, 876, 878, 880, 882, 883, 887, 887, 892, 892, 892, 893, 894, 897, 897, 897, 898, 898, 899, 900, 903, 903, 903, 903, 904, 906, 906, 906, 906, 907, 908, 909, 912, 914, 917, 918, 919, 919, 919, 920, 920, 921, 921, 921, 921, 924, 926, 926, 927, 928, 930, 939, 939, 942, 944, 944, 944, 945, 946, 949, 952, 953, 957, 958, 958, 959, 961, 964, 965, 968, 973, 974, 979, 982, 983, 984, 984, 986, 986, 986, 988, 988, 989, 990, 991, 991, 991, 992, 999]\n",
      "Calculated primes that are not actually prime:\n[980, 985, 997]\n"
     ],
     "output_type": "stream"
    }
   ],
   "source": [
    "\n",
    "cutoff = 10**3\n",
    "\n",
    "composites = find_composites(cutoff)\n",
    "\n",
    "print('Detected composites (x-position):')\n",
    "composites.sort()\n",
    "print(composites)\n",
    "mistakes = check_primes(composites, cutoff)\n",
    "print('Calculated primes that are not actually prime:')\n",
    "mistakes.sort()\n",
    "print(mistakes)\n",
    "\n"
   ],
   "metadata": {
    "collapsed": false,
    "pycharm": {
     "name": "#%%\n",
     "is_executing": false
    }
   }
  }
 ],
 "metadata": {
  "kernelspec": {
   "display_name": "Python 3",
   "language": "python",
   "name": "python3"
  },
  "language_info": {
   "codemirror_mode": {
    "name": "ipython",
    "version": 2
   },
   "file_extension": ".py",
   "mimetype": "text/x-python",
   "name": "python",
   "nbconvert_exporter": "python",
   "pygments_lexer": "ipython2",
   "version": "2.7.6"
  },
  "pycharm": {
   "stem_cell": {
    "cell_type": "raw",
    "source": [],
    "metadata": {
     "collapsed": false
    }
   }
  }
 },
 "nbformat": 4,
 "nbformat_minor": 0
}