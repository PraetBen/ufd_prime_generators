{
 "cells": [
  {
   "cell_type": "markdown",
   "source": [
    "# Extending the Sieve Of Eratosthenes\n",
    "## Interactive article\n",
    "The goal of this jupyter notebook is to give you, the reader, some tools and additional insights in the extended sieve.\n",
    "The examples used in the text are here illustrated for you by code.\n",
    "\n",
    "It is possible to change code and run it as you wish. \n",
    "First the function is defined as well as a simple implementation that checks if something is prime.\n",
    "\n",
    "You can change C from 41 to 61 or any other number to see if everything still works."
   ],
   "metadata": {
    "collapsed": false,
    "pycharm": {
     "name": "#%% md\n"
    }
   }
  },
  {
   "cell_type": "code",
   "execution_count": 2,
   "metadata": {
    "collapsed": true,
    "pycharm": {
     "is_executing": false,
     "name": "#%%\n"
    }
   },
   "outputs": [],
   "source": [
    "C = 41\n",
    "\n",
    "def f(x):\n",
    "    \"\"\" Returns the value of the function x²+x+C \"\"\"\n",
    "    return x ** 2 + x + C\n",
    "\n",
    "def is_prime(N):\n",
    "    \"\"\" Checks if a number is prime by simple trial division \"\"\"\n",
    "    x = 2  # initialize variable\n",
    "    while x <= int(N ** 0.5):  # while x is smaller than the square root of N\n",
    "        if N % x == 0:  # if N is divisible by x\n",
    "            return False  # then N is not a prime\n",
    "        x += 1  # add one more to x to test the next number\n",
    "    return True  # when no x can be found that divides N, then N must be a prime number"
   ]
  },
  {
   "cell_type": "markdown",
   "source": [
    "### The composites from -25 to 150"
   ],
   "metadata": {
    "collapsed": false,
    "pycharm": {
     "name": "#%% md\n",
     "is_executing": false
    }
   }
  },
  {
   "cell_type": "code",
   "execution_count": 3,
   "outputs": [
    {
     "name": "stdout",
     "text": [
      "[40, 41, 44, 49, 56, 65, 76, 81, 82, 84, 87, 89, 91, 96, 102, 104, 109, 117, 121, 122, 123, 126, 127, 130, 136, 138, 140, 143, 147]\n"
     ],
     "output_type": "stream"
    }
   ],
   "source": [
    "composites = []\n",
    "for x in range(-25, 150):\n",
    "    if not is_prime(f(x)):\n",
    "        composites.append(x)\n",
    "print(composites)\n",
    "        "
   ],
   "metadata": {
    "collapsed": false,
    "pycharm": {
     "name": "#%%\n",
     "is_executing": false
    }
   }
  },
  {
   "cell_type": "markdown",
   "source": [
    "## Step 1\n",
    "### Composites found by x+f(x)\n",
    "first table of the article"
   ],
   "metadata": {
    "collapsed": false,
    "pycharm": {
     "name": "#%% md\n"
    }
   }
  },
  {
   "cell_type": "code",
   "execution_count": 4,
   "outputs": [
    {
     "name": "stdout",
     "text": [
      "x; f(x); x+f(x)\n-3; 47; 44\n-2; 43; 41\n-1; 41; 40\n0; 41; 41\n1; 43; 44\n2; 47; 49\n3; 53; 56\n4; 61; 65\n5; 71; 76\n6; 83; 89\n"
     ],
     "output_type": "stream"
    }
   ],
   "source": [
    "print(f\"x; f(x); x+f(x)\")\n",
    "for x in range(-3,7):\n",
    "   print(f\"{x}; {f(x)}; {x+f(x)}\")\n",
    "   "
   ],
   "metadata": {
    "collapsed": false,
    "pycharm": {
     "name": "#%%\n",
     "is_executing": false
    }
   }
  },
  {
   "cell_type": "markdown",
   "source": [
    "### Composites found by x+k*f(x)\n",
    "second table of the article"
   ],
   "metadata": {
    "collapsed": false,
    "pycharm": {
     "name": "#%% md\n",
     "is_executing": false
    }
   }
  },
  {
   "cell_type": "code",
   "execution_count": 5,
   "outputs": [
    {
     "name": "stdout",
     "text": [
      "x; f(x); x+k*f(x)\n-1; 41; 40\n-1; 41; 81\n-1; 41; 122\n0; 41; 41\n0; 41; 82\n0; 41; 123\n1; 43; 44\n1; 43; 87\n1; 43; 130\n2; 47; 49\n2; 47; 96\n2; 47; 143\n3; 53; 56\n3; 53; 109\n4; 61; 65\n4; 61; 126\n5; 71; 76\n5; 71; 147\n6; 83; 89\n"
     ],
     "output_type": "stream"
    }
   ],
   "source": [
    "print(f\"x; f(x); x+k*f(x)\")\n",
    "found_composites = []\n",
    "for x in range(-1,7):\n",
    "    k=1\n",
    "    while x+k*f(x) < 150:\n",
    "        print(f\"{x}; {f(x)}; {x+k*f(x)}\")        \n",
    "        found_composites.append(x+k*f(x))\n",
    "        k = k+1\n",
    "        "
   ],
   "metadata": {
    "collapsed": false,
    "pycharm": {
     "name": "#%%\n",
     "is_executing": false
    }
   }
  },
  {
   "cell_type": "markdown",
   "source": [
    "## Step 2\n",
    "### The composites that are not found yet"
   ],
   "metadata": {
    "collapsed": false,
    "pycharm": {
     "name": "#%% md\n",
     "is_executing": true
    }
   }
  },
  {
   "cell_type": "code",
   "execution_count": 6,
   "outputs": [
    {
     "name": "stdout",
     "text": [
      "Composites not found yet:\n[84, 91, 102, 104, 117, 121, 127, 136, 138, 140]\n"
     ],
     "output_type": "stream"
    }
   ],
   "source": [
    "common = set(composites).intersection(found_composites)\n",
    "\n",
    "diff = set(composites) - set(common)\n",
    "print(\"Composites not found yet:\")\n",
    "print(sorted(diff))"
   ],
   "metadata": {
    "collapsed": false,
    "pycharm": {
     "name": "#%%\n",
     "is_executing": false
    }
   }
  },
  {
   "cell_type": "markdown",
   "source": [
    "### Finding the remaining composites\n",
    "For x = 44 and q = 47 (composite that was generated by x=2)"
   ],
   "metadata": {
    "collapsed": false,
    "pycharm": {
     "name": "#%% md\n",
     "is_executing": false
    }
   }
  },
  {
   "cell_type": "code",
   "execution_count": 14,
   "outputs": [
    {
     "name": "stdout",
     "text": [
      "Is f(91) = 8413 is divisible by 179.0\nIs f(138) = 19223 is divisible by 409.0\nIs f(185) = 34451 is divisible by 733.0\nIs f(232) = 54097 is divisible by 1151.0\n"
     ],
     "output_type": "stream"
    }
   ],
   "source": [
    "for k in range(1,5):\n",
    "    print(f\"Is f({44+k*47}) = {f(44+k*47)} is divisible by {(f(44+k*47)/47)}\")"
   ],
   "metadata": {
    "collapsed": false,
    "pycharm": {
     "name": "#%%\n",
     "is_executing": false
    }
   }
  },
  {
   "cell_type": "code",
   "execution_count": 8,
   "outputs": [],
   "source": [
    "### Generating more composites"
   ],
   "metadata": {
    "collapsed": false,
    "pycharm": {
     "name": "#%%\n",
     "is_executing": false
    }
   }
  },
  {
   "cell_type": "code",
   "execution_count": 20,
   "outputs": [
    {
     "name": "stdout",
     "text": [
      "733.0\n"
     ],
     "output_type": "stream"
    }
   ],
   "source": [
    "x=44+47*2\n",
    "# q = ?\n",
    "# new divisors will be ?\n",
    "# Solution: First composite will be at 733.\n"
   ],
   "metadata": {
    "collapsed": false,
    "pycharm": {
     "name": "#%%\n",
     "is_executing": false
    }
   }
  }
 ],
 "metadata": {
  "kernelspec": {
   "display_name": "Python 3",
   "language": "python",
   "name": "python3"
  },
  "language_info": {
   "codemirror_mode": {
    "name": "ipython",
    "version": 2
   },
   "file_extension": ".py",
   "mimetype": "text/x-python",
   "name": "python",
   "nbconvert_exporter": "python",
   "pygments_lexer": "ipython2",
   "version": "2.7.6"
  },
  "pycharm": {
   "stem_cell": {
    "cell_type": "raw",
    "source": [],
    "metadata": {
     "collapsed": false
    }
   }
  }
 },
 "nbformat": 4,
 "nbformat_minor": 0
}