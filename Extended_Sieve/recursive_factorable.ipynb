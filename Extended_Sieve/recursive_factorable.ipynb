{
 "cells": [
  {
   "cell_type": "code",
   "execution_count": 1,
   "metadata": {
    "collapsed": true,
    "pycharm": {
     "is_executing": false
    }
   },
   "outputs": [],
   "source": [
    "from common import get_absolute_value\n",
    "import numpy as np"
   ]
  },
  {
   "cell_type": "code",
   "execution_count": 2,
   "outputs": [],
   "source": [
    "def f(x):\n",
    "    \"\"\" Define the function to evaluate f(x) = x^2+x+C (C = 41 ) \"\"\"\n",
    "    return get_absolute_value(x,1)\n"
   ],
   "metadata": {
    "collapsed": false,
    "pycharm": {
     "name": "#%%\n",
     "is_executing": false
    }
   }
  },
  {
   "cell_type": "code",
   "execution_count": null,
   "outputs": [],
   "source": [
    "# First step, to be exact"
   ],
   "metadata": {
    "collapsed": false,
    "pycharm": {
     "name": "#%%\n"
    }
   }
  },
  {
   "cell_type": "code",
   "execution_count": 6,
   "outputs": [
    {
     "name": "stdout",
     "text": [
      "Value of q0: 1\n"
     ],
     "output_type": "stream"
    }
   ],
   "source": [
    "c0 = 1\n",
    "d0 = 0\n",
    "q0= get_absolute_value(c0, d0)\n",
    "print(f\"Value of q0: {q0}\")"
   ],
   "metadata": {
    "collapsed": false,
    "pycharm": {
     "name": "#%%\n",
     "is_executing": false
    }
   }
  },
  {
   "cell_type": "code",
   "execution_count": 13,
   "outputs": [
    {
     "name": "stdout",
     "text": [
      "Calculated value of q1: 71\nThis means that f(5) = 71 is divisble by 71 and 1\n"
     ],
     "output_type": "stream"
    }
   ],
   "source": [
    "x1 = 5\n",
    "c1 = x1\n",
    "d1 = 1\n",
    "q1 = get_absolute_value(c1, d1)\n",
    "\n",
    "print(f\"Calculated value of q1: {q1}\")\n",
    "print(f\"This means that f({x1}) = {f(x1)} is divisble by {q1} and {q0}\")"
   ],
   "metadata": {
    "collapsed": false,
    "pycharm": {
     "name": "#%%\n",
     "is_executing": false
    }
   }
  },
  {
   "cell_type": "code",
   "execution_count": 18,
   "outputs": [
    {
     "name": "stdout",
     "text": [
      "Calculated value of q2: 307\nThis means that f(147) = 21797 is divisble by 307 and 71\n"
     ],
     "output_type": "stream"
    }
   ],
   "source": [
    "x2 = 2\n",
    "c2 = c0 + c1*x2\n",
    "d2 = d0 + d1*x2\n",
    "q2 = get_absolute_value(c2,d2)\n",
    "\n",
    "print(f\"Calculated value of q2: {q2}\")\n",
    "print(f\"This means that f({x1+x2*q1}) = {f(x1+x2*q1)} is divisble by {q2} and {q1}\")"
   ],
   "metadata": {
    "collapsed": false,
    "pycharm": {
     "name": "#%%\n",
     "is_executing": false
    }
   }
  },
  {
   "cell_type": "code",
   "execution_count": 6,
   "outputs": [
    {
     "name": "stdout",
     "text": [
      "De te evalueren functie: 6163.0\nvoorspelde deler: 6163\n"
     ],
     "output_type": "stream"
    }
   ],
   "source": [
    "x3 = 4\n",
    "f(x1+x2*p1+x3*p2)\n",
    "c3 = c1 + c2*x3\n",
    "d3 = d1 + d2*x3\n",
    "p3 = get_absolute_value(c3, d3)\n",
    "print(\"De te evalueren functie: \" + str(f(x1+x2*p1+x3*p2)/p2))\n",
    "print(\"voorspelde deler: \" +str(p3))"
   ],
   "metadata": {
    "collapsed": false,
    "pycharm": {
     "name": "#%%\n",
     "is_executing": false
    }
   }
  },
  {
   "cell_type": "code",
   "execution_count": 7,
   "outputs": [
    {
     "name": "stdout",
     "text": [
      "f(167776)=28148953993 is divisible by 4567411 and 6163\n"
     ],
     "output_type": "stream"
    }
   ],
   "source": [
    "x4 = 27\n",
    "c4 = c2 + c3*x4\n",
    "d4 = d2 + d3*x4\n",
    "\n",
    "print(f\"f({x1+x2*p1+x3*p2+x4*p3})={f(x1+x2*p1+x3*p2+x4*p3)} is divisible by {get_absolute_value(c4,d4)} and {get_absolute_value(c3, d3)}\")"
   ],
   "metadata": {
    "collapsed": false,
    "pycharm": {
     "name": "#%%\n",
     "is_executing": false
    }
   }
  },
  {
   "cell_type": "code",
   "execution_count": 8,
   "outputs": [
    {
     "data": {
      "text/plain": "28148953993"
     },
     "metadata": {},
     "output_type": "execute_result",
     "execution_count": 8
    }
   ],
   "source": [
    "get_absolute_value(c4,d4)*get_absolute_value(c3,d3)"
   ],
   "metadata": {
    "collapsed": false,
    "pycharm": {
     "name": "#%%\n",
     "is_executing": false
    }
   }
  },
  {
   "cell_type": "code",
   "execution_count": 9,
   "outputs": [],
   "source": [
    "x = [x1,x2,x3,x4]\n",
    "\n",
    "cds = [[c0,d0], [c1 ,d1]]\n",
    "for xi in x[1:]:\n",
    "    c = cds[-2][0] + cds[-1][0]*xi\n",
    "    d = cds[-2][1] + cds[-1][1]*xi\n",
    "    cds.append([c, d])\n",
    "    #print(get_absolute_value(c,d))"
   ],
   "metadata": {
    "collapsed": false,
    "pycharm": {
     "name": "#%%\n",
     "is_executing": false
    }
   }
  },
  {
   "cell_type": "code",
   "execution_count": 9,
   "outputs": [],
   "source": [],
   "metadata": {
    "collapsed": false,
    "pycharm": {
     "name": "#%%\n",
     "is_executing": false
    }
   }
  },
  {
   "cell_type": "code",
   "execution_count": 11,
   "outputs": [],
   "source": [
    "def calculate_cd(x):\n",
    "    cds = [[c0,d0], [c1 ,d1]]\n",
    "    for xi in x[1:]:\n",
    "        c = cds[-2][0] + cds[-1][0]*xi\n",
    "        d = cds[-2][1] + cds[-1][1]*xi\n",
    "        cds.append([c, d])\n",
    "\n",
    "    return cds"
   ],
   "metadata": {
    "collapsed": false,
    "pycharm": {
     "name": "#%%\n",
     "is_executing": false
    }
   }
  },
  {
   "cell_type": "code",
   "execution_count": 32,
   "outputs": [],
   "source": [
    "def calculate_pos(x):\n",
    "    cds = calculate_cd(x)\n",
    "    p = []\n",
    "    for cd in cds:\n",
    "        p.append(get_absolute_value(cd[0], cd[1]))\n",
    "\n",
    "    return np.dot(x, p[:-1])"
   ],
   "metadata": {
    "collapsed": false,
    "pycharm": {
     "name": "#%%\n",
     "is_executing": false
    }
   }
  },
  {
   "cell_type": "code",
   "execution_count": 33,
   "outputs": [
    {
     "data": {
      "text/plain": "167776"
     },
     "metadata": {},
     "output_type": "execute_result",
     "execution_count": 33
    }
   ],
   "source": [
    "calculate_pos(x)"
   ],
   "metadata": {
    "collapsed": false,
    "pycharm": {
     "name": "#%%\n",
     "is_executing": false
    }
   }
  },
  {
   "cell_type": "code",
   "execution_count": 31,
   "outputs": [
    {
     "data": {
      "text/plain": "167776"
     },
     "metadata": {},
     "output_type": "execute_result",
     "execution_count": 31
    }
   ],
   "source": [
    "# try to make a sieve based on this\n",
    "i=0\n",
    "\n",
    "cutoff = 1000"
   ],
   "metadata": {
    "collapsed": false,
    "pycharm": {
     "name": "#%%\n",
     "is_executing": false
    }
   }
  }
 ],
 "metadata": {
  "kernelspec": {
   "display_name": "Python 3",
   "language": "python",
   "name": "python3"
  },
  "language_info": {
   "codemirror_mode": {
    "name": "ipython",
    "version": 2
   },
   "file_extension": ".py",
   "mimetype": "text/x-python",
   "name": "python",
   "nbconvert_exporter": "python",
   "pygments_lexer": "ipython2",
   "version": "2.7.6"
  },
  "pycharm": {
   "stem_cell": {
    "cell_type": "raw",
    "source": [],
    "metadata": {
     "collapsed": false
    }
   }
  }
 },
 "nbformat": 4,
 "nbformat_minor": 0
}