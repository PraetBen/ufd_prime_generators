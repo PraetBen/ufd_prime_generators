{
 "cells": [
  {
   "cell_type": "code",
   "execution_count": 2,
   "metadata": {
    "collapsed": true,
    "pycharm": {
     "is_executing": false
    }
   },
   "outputs": [],
   "source": [
    "from common import f\n",
    "import numpy as np"
   ]
  },
  {
   "cell_type": "code",
   "execution_count": 3,
   "outputs": [],
   "source": [
    "# First step, to be consistent\n",
    "c0 = 1\n",
    "d0 = 0\n",
    "q0 = f(c0, d0)\n",
    "print(f\"Value of q0: {q0}\")"
   ],
   "metadata": {
    "collapsed": false,
    "pycharm": {
     "name": "#%%\n",
     "is_executing": false
    }
   }
  },
  {
   "cell_type": "code",
   "execution_count": 9,
   "outputs": [
    {
     "name": "stdout",
     "text": [
      "Calculated value of q1: 43\nThis means that f(1) = 43 is divisble by 43 and 1\n"
     ],
     "output_type": "stream"
    }
   ],
   "source": [
    "x1 = 1\n",
    "c1 = x1\n",
    "d1 = 1\n",
    "q1 = f(c1, d1)\n",
    "\n",
    "print(f\"Calculated value of q1: {q1}\")\n",
    "print(f\"This means that f({x1}) = {f(x1)} is divisble by {q1} and {q0}\")"
   ],
   "metadata": {
    "collapsed": false,
    "pycharm": {
     "name": "#%%\n",
     "is_executing": false
    }
   }
  },
  {
   "cell_type": "code",
   "execution_count": 10,
   "outputs": [
    {
     "name": "stdout",
     "text": [
      "Calculated value of q2: 179\nThis means that f(87) = 7697 is divisble by 179 and 43\n"
     ],
     "output_type": "stream"
    }
   ],
   "source": [
    "x2 = 2\n",
    "c2 = c0 + c1*x2\n",
    "d2 = d0 + d1*x2\n",
    "q2 = f(c2,d2)\n",
    "\n",
    "print(f\"Calculated value of q2: {q2}\")\n",
    "print(f\"This means that f({x1+x2*q1}) = {f(x1+x2*q1)} is divisble by {q2} and {q1}\")"
   ],
   "metadata": {
    "collapsed": false,
    "pycharm": {
     "name": "#%%\n",
     "is_executing": false
    }
   }
  },
  {
   "cell_type": "code",
   "execution_count": 24,
   "outputs": [
    {
     "name": "stdout",
     "text": [
      "Calculated value of q3: (7,5) = 1109\nThis means that f(445) = 198511 is divisble by 1109 and 179\n"
     ],
     "output_type": "stream"
    }
   ],
   "source": [
    "x3 = 2\n",
    "f(x1+x2*q1+x3*q2)\n",
    "c3 = c1 + c2*x3\n",
    "d3 = d1 + d2*x3\n",
    "q3 = f(c3, d3)\n",
    "\n",
    "\n",
    "print(f\"Calculated value of q3: ({c3},{d3}) = {q3}\")\n",
    "print(f\"This means that f({x1+x2*q1+x3*q2}) = {f(x1+x2*q1+x3*q2)} is divisble by {q3} and {q2}\")"
   ],
   "metadata": {
    "collapsed": false,
    "pycharm": {
     "name": "#%%\n",
     "is_executing": false
    }
   }
  },
  {
   "cell_type": "code",
   "execution_count": 18,
   "outputs": [],
   "source": [
    "def calculate_cd(x):\n",
    "    \"\"\" Method that allows to directly compute a c,d using a path x=[]\"\"\"\n",
    "    c0 = 1 # always 1\n",
    "    d0 = 0 # always 0\n",
    "    c1 = x[0] # equals x1\n",
    "    d1 = 1 # always 1\n",
    "    \n",
    "    cds = [[c0,d0], [c1 ,d1]]\n",
    "    for xi in x[1:]:\n",
    "        c = cds[-2][0] + cds[-1][0]*xi\n",
    "        d = cds[-2][1] + cds[-1][1]*xi\n",
    "        cds.append([c, d])\n",
    "\n",
    "    return cds"
   ],
   "metadata": {
    "collapsed": false,
    "pycharm": {
     "name": "#%%\n",
     "is_executing": false
    }
   }
  },
  {
   "cell_type": "code",
   "execution_count": 34,
   "outputs": [
    {
     "name": "stdout",
     "text": [
      "[7, 5]",
      "\n"
     ],
     "output_type": "stream"
    }
   ],
   "source": [
    "# here we show that we can find the exact same result, using the recursive relation\n",
    "x = [x1,x2,x3]\n",
    "print(calculate_cd(x)[-1])"
   ],
   "metadata": {
    "collapsed": false,
    "pycharm": {
     "name": "#%%\n",
     "is_executing": false
    }
   }
  },
  {
   "cell_type": "code",
   "execution_count": 28,
   "outputs": [],
   "source": [
    "def calculate_pos(x):\n",
    "    \"\"\" Method that allows to directly compute the position of a composite using a path x=[]\"\"\"\n",
    "    cds = calculate_cd(x)\n",
    "    p = []\n",
    "    for cd in cds:\n",
    "        p.append(f(cd[0], cd[1]))\n",
    "\n",
    "    return np.dot(x, p[:-1])"
   ],
   "metadata": {
    "collapsed": false,
    "pycharm": {
     "name": "#%%\n",
     "is_executing": false
    }
   }
  },
  {
   "cell_type": "code",
   "execution_count": 29,
   "outputs": [
    {
     "name": "stdout",
     "text": [
      "[1, 2, 2]\n"
     ],
     "output_type": "stream"
    },
    {
     "data": {
      "text/plain": "445"
     },
     "metadata": {},
     "output_type": "execute_result",
     "execution_count": 29
    }
   ],
   "source": [
    "\n",
    "\n",
    "print(x)\n",
    "calculate_pos(x)"
   ],
   "metadata": {
    "collapsed": false,
    "pycharm": {
     "name": "#%%\n",
     "is_executing": false
    }
   }
  }
 ],
 "metadata": {
  "kernelspec": {
   "display_name": "Python 3",
   "language": "python",
   "name": "python3"
  },
  "language_info": {
   "codemirror_mode": {
    "name": "ipython",
    "version": 2
   },
   "file_extension": ".py",
   "mimetype": "text/x-python",
   "name": "python",
   "nbconvert_exporter": "python",
   "pygments_lexer": "ipython2",
   "version": "2.7.6"
  },
  "pycharm": {
   "stem_cell": {
    "cell_type": "raw",
    "source": [],
    "metadata": {
     "collapsed": false
    }
   }
  }
 },
 "nbformat": 4,
 "nbformat_minor": 0
}